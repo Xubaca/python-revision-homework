{
 "cells": [
  {
   "cell_type": "markdown",
   "metadata": {},
   "source": [
    "# Exercícios Módulo 2. Entrada e saída de dados (Soluções)\n",
    "\n",
    "Considerações a ter em conta:\n",
    "\n",
    "* Guardar este documento com o seguinte formato para entrega: __M2_03_nome_apelido1_apelido2__\n",
    "* Fazer os exercícios com as ferramentas vistas nas sessões. Ainda não chegámos às condicionais nem ciclos \n",
    "* Comentar o código\n",
    "* Utilizar nomes de variáveis apropriados, se vai guardar uma nota, chamar a essa variável nota, não n ou x"
   ]
  },
  {
   "cell_type": "markdown",
   "metadata": {},
   "source": [
    "**1) Utilizar o método input() para fazer as seguintes tarefas:**\n",
    "* Peça um número ao utilizador e imprima o resultado juntamente com o tipo de dado capturado pela função input().\n",
    "* Peça um número ao utilizador e converta o valor introduzido para o formato int. Em seguida, imprima o número inteiro e o seu tipo.\n",
    "* Peça um número ao utilizador e converta o valor introduzido para o formato float. Imprima o número decimal e o seu tipo."
   ]
  },
  {
   "cell_type": "code",
   "execution_count": 1,
   "metadata": {},
   "outputs": [],
   "source": [
    "# Completar o exercício aqui"
   ]
  },
  {
   "cell_type": "markdown",
   "metadata": {},
   "source": [
    "**2) Formatar os seguintes valores para mostrar o resultado indicado (deve usar o método format()):**\n",
    "\n",
    "* “Olá Mundo” → Alinhado à direita em 20 caracteres\n",
    "* “Olá Mundo” → Truncagem no quarto carácter (usar índice 3)\n",
    "* “Olá Mundo” → Alinhamento ao centro em 20 caracteres com truncagem no segundo carácter (usar índice 1)\n",
    "* 150 → Formatar com 5 números inteiros preenchidos com zeros\n",
    "* 7887 → Formatar com 7 números inteiros preenchidos com espaços\n",
    "* 20.02 → Formatar com 3 números inteiros e 3 números decimais\n"
   ]
  },
  {
   "cell_type": "code",
   "execution_count": 2,
   "metadata": {},
   "outputs": [],
   "source": [
    "# Completar o exercício aqui"
   ]
  }
 ],
 "metadata": {
  "anaconda-cloud": {},
  "kernelspec": {
   "display_name": "Python 2",
   "language": "python",
   "name": "python2"
  },
  "language_info": {
   "codemirror_mode": {
    "name": "ipython",
    "version": 2
   },
   "file_extension": ".py",
   "mimetype": "text/x-python",
   "name": "python",
   "nbconvert_exporter": "python",
   "pygments_lexer": "ipython2",
   "version": "2.7.16"
  }
 },
 "nbformat": 4,
 "nbformat_minor": 4
}
