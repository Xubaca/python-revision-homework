{
 "cells": [
  {
   "cell_type": "markdown",
   "metadata": {},
   "source": [
    "# Exercícios Módulo 2. Entrada e saída de dados (Soluções)\n",
    "\n",
    "Considerações a ter em conta:\n",
    "\n",
    "* Guardar este documento com o seguinte formato para entrega: __M2_03_nome_apelido1_apelido2__\n",
    "* Fazer os exercícios com as ferramentas vistas nas sessões. Ainda não chegámos às condicionais nem ciclos \n",
    "* Comentar o código\n",
    "* Utilizar nomes de variáveis apropriados, se vai guardar uma nota, chamar a essa variável nota, não n ou x"
   ]
  },
  {
   "cell_type": "markdown",
   "metadata": {},
   "source": [
    "**1) Utilizar o método input() para fazer as seguintes tarefas:**\n",
    "* Peça um número ao utilizador e imprima o resultado juntamente com o tipo de dado capturado pela função input().\n",
    "* Peça um número ao utilizador e converta o valor introduzido para o formato int. Em seguida, imprima o número inteiro e o seu tipo.\n",
    "* Peça um número ao utilizador e converta o valor introduzido para o formato float. Imprima o número decimal e o seu tipo."
   ]
  },
  {
   "cell_type": "code",
   "execution_count": null,
   "metadata": {},
   "outputs": [],
   "source": [
    "#declaração\n",
    "user_input = input(\"Por favor introduza um numero:\\t\")\n",
    "#printing\n",
    "print(user_input + f\" que é do tipo {type(user_input)}\")\n",
    "\n",
    "#segundo problema\n",
    "while True:\n",
    "    #Para garantir a introdução de um int\n",
    "    try:\n",
    "        answer :int = int(input(\"Por favor digite um numero(formato int)!\\n\"))\n",
    "        print(f\"O numero escolhido foi {answer} e o seu tipo é {type(answer)}\")\n",
    "        break\n",
    "    except:\n",
    "        print(\"Por favor apenas numeros!\")\n",
    "\n",
    "#loop de respostas \n",
    "while True:\n",
    "    try:\n",
    "        #validação da resposta\n",
    "        second_answer:float = float(input(\"Por favor digite um numero(formato float)!\\t\"))\n",
    "        print(f\"VOce escolheu o seguinte numero {second_answer} e é do tipo {type(second_answer)}\")\n",
    "        #exit do loop\n",
    "        break\n",
    "    except:\n",
    "        print(\"Por favor apenas numeros!\")\n",
    "\n",
    "pass"
   ]
  },
  {
   "cell_type": "markdown",
   "metadata": {},
   "source": [
    "**2) Formatar os seguintes valores para mostrar o resultado indicado (deve usar o método format()):**\n",
    "\n",
    "* “Olá Mundo” → Alinhado à direita em 20 caracteres\n",
    "* “Olá Mundo” → Truncagem no quarto carácter (usar índice 3)\n",
    "* “Olá Mundo” → Alinhamento ao centro em 20 caracteres com truncagem no segundo carácter (usar índice 1)\n",
    "* 150 → Formatar com 5 números inteiros preenchidos com zeros\n",
    "* 7887 → Formatar com 7 números inteiros preenchidos com espaços\n",
    "* 20.02 → Formatar com 3 números inteiros e 3 números decimais\n"
   ]
  },
  {
   "cell_type": "code",
   "execution_count": null,
   "metadata": {},
   "outputs": [],
   "source": [
    "# Completar o exercício aqui\n",
    "#printing\n",
    "print(\"{:>20}\".format(\"Olá mundo\"))\n",
    "#não tenho a certeza se é isto que me estão a pedir\n",
    "print(\"{:.4}\".format(\"Olá mundo\"))\n",
    "#não tenho a certeza se é isto que me estão a a pedir\n",
    "print(\"{:^20.2}\".format(\"Olá mundo\"))\n",
    "print(\"{:05d}\".format(150))\n",
    "print(\"{: 5d}\".format(7887))\n",
    "print(\"{:07.3f}\".format(20.02))\n",
    "pass"
   ]
  }
 ],
 "metadata": {
  "anaconda-cloud": {},
  "kernelspec": {
   "display_name": "Python 2",
   "language": "python",
   "name": "python2"
  },
  "language_info": {
   "codemirror_mode": {
    "name": "ipython",
    "version": 2
   },
   "file_extension": ".py",
   "mimetype": "text/x-python",
   "name": "python",
   "nbconvert_exporter": "python",
   "pygments_lexer": "ipython2",
   "version": "2.7.16"
  }
 },
 "nbformat": 4,
 "nbformat_minor": 4
}
