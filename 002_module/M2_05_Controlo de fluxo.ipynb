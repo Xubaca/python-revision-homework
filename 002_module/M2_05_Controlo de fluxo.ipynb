{
 "cells": [
  {
   "cell_type": "markdown",
   "metadata": {},
   "source": [
    "# Exercícios Módulo 2. Controlo de fluxo (Soluções)\n",
    "\n",
    "Considerações a ter em conta:\n",
    "\n",
    "* Guardar este documento com o seguinte formato para entrega: __M2_05_nome_apelido1_apelido2__\n",
    "* Fazer os exercícios com as ferramentas vistas nas sessões. \n",
    "* Comentar o código\n",
    "* Utilizar nomes de variáveis apropriados, se vai guardar uma nota, chamar a essa variável nota, não n ou x"
   ]
  },
  {
   "cell_type": "markdown",
   "metadata": {},
   "source": [
    "## Exercícios de controlo de fluxo"
   ]
  },
  {
   "cell_type": "markdown",
   "metadata": {},
   "source": [
    "**1) Faça um programa que solicite ao utilizador três números individualmente e realize as seguintes verificações:** \n",
    "\n",
    "* Se os números estão por ordem ascendente ou decrescente \n",
    "* Se há um erro devido a que o primeiro número introduzido é 0"
   ]
  },
  {
   "cell_type": "code",
   "execution_count": null,
   "metadata": {},
   "outputs": [],
   "source": [
    "# Completar o exercício aqui\n",
    "numeros :list = []\n",
    "#um while para ser possivel repetir respostas caso ocorra o erro do 0\n",
    "iterator :int = 0\n",
    "while iterator<3:\n",
    "    resposta = int(input(\"Digite os numeros: \"))\n",
    "    #vaildação se o primeiro numero é de facto 0\n",
    "    if(len(numeros) == 0 and resposta == 0):\n",
    "        print(\"O primeiro numero não pode ser 0!\")\n",
    "    #append\n",
    "    else:\n",
    "        iterator += 1\n",
    "        numeros.append(resposta)\n",
    "    print(numeros)\n",
    "\n",
    "#+=1 se o numero é menor que o seguinte ou -=1\n",
    "order :int = 0\n",
    "#vira true se houver numeros iguais\n",
    "for i in range(0,2):\n",
    "    if(numeros[i] >  numeros[i+1]):\n",
    "        order -= 1\n",
    "    else:\n",
    "        order += 1\n",
    "\n",
    "#Controla o output\n",
    "match order:\n",
    "    case 2:\n",
    "        print(\"Ordem ascendente!\\n\")\n",
    "    case -2:\n",
    "        print(\"Ordem descendente!\\n\")\n",
    "    case _:\n",
    "        print(\"NEnhuma Ordem!\\n\")\n",
    "\n"
   ]
  },
  {
   "cell_type": "markdown",
   "metadata": {},
   "source": [
    "**2) Faça um programa que realize o somatório dos primeiros N números e apresente o valor da soma, onde N é fornecido pelo utilizador**\n",
    "\n",
    "* Exemplo de número limite introduzido pelo utilizador: 5\n",
    "* somatório = 0 + 1 + 2 + 3 + 4 (somamos os 5 primeiros números)"
   ]
  },
  {
   "cell_type": "code",
   "execution_count": null,
   "metadata": {},
   "outputs": [],
   "source": [
    "# Completar o exercício aqui\n",
    "somatario : int = int(input(\"De que numero é que quer fazer o somatorio?\\n\"))\n",
    "soma :int = somatario\n",
    "for i in range(0,somatario):\n",
    "    soma += i\n",
    "print(f\"O Resultadao e:\\t{soma}\")\n",
    "pass"
   ]
  },
  {
   "cell_type": "markdown",
   "metadata": {},
   "source": [
    "**3) Faça um programa que solicite ao utilizador 2 números e apresente as seguintes opções:** \n",
    "\n",
    "* Mostrar a soma dos dois números\n",
    "* Mostrar o resto dos dois números (o primeiro menos o segundo) \n",
    "* Mostrar a multiplicação dos dois números\n",
    "* Em caso de não introduzir uma opção válida, o programa irá informar que não é correta\n"
   ]
  },
  {
   "cell_type": "code",
   "execution_count": null,
   "metadata": {},
   "outputs": [],
   "source": [
    "# Completar o exercício aqui\n",
    "numero_1: int = 0\n",
    "numero_2: int = 0\n",
    "while True:\n",
    "    try:\n",
    "        numero_1 = int(input(\"Primeiro numero:\\t\"))\n",
    "        numero_2 = int(input(\"Segundo numero:\\t\"))\n",
    "        break\n",
    "    except:\n",
    "        print(\"Por favor apenas numeros!\")\n",
    "#defenicao das opcoes\n",
    "soma = lambda x,y: x+y\n",
    "resto = lambda x,y: x%y\n",
    "multiplicacao = lambda x,y: x*y\n",
    "while True:\n",
    "    try:\n",
    "        print(\"Por favor escolha uma opcao:\\n\\t1)-soma;\\n\\t2)-multiplicacao;\\n\\t3)-resto\")\n",
    "        resposta = int(input(\"Qual e a sua escolha?:\\t\"))\n",
    "        #switch case\n",
    "        match resposta:\n",
    "            case 1:\n",
    "                print(soma(numero_1,numero_2))\n",
    "            case 2:\n",
    "                print(multiplicacao(numero_1,numero_2))\n",
    "            case 3:\n",
    "                print(resto(numero_1,numero_2))\n",
    "            #error handling\n",
    "            case _:\n",
    "                print(\"opcao Invalida!\")\n",
    "                continue\n",
    "        break\n",
    "    #error handling\n",
    "    except:\n",
    "        print(\"Por favor apenas escolha, opcoes validas!\")"
   ]
  },
  {
   "cell_type": "markdown",
   "metadata": {},
   "source": [
    "**4)  Faça um programa que solicite ao utilizador que introduza um número e o apresente.**\n",
    "* Repita o processo enquanto o utilizador continuar a introduzir números ímpares. \n",
    "* Quando o utilizador introduzir um número par, pare o programa.\n"
   ]
  },
  {
   "cell_type": "code",
   "execution_count": null,
   "metadata": {},
   "outputs": [],
   "source": [
    "# Completar o exercício aqui\n",
    "#armazena todas as respostas\n",
    "respostas :list[int] = []\n",
    "#corre o loop ate um numero par ser introduzido\n",
    "while True:\n",
    "    print(\"Que numero e que deseja intrudozir:\\t\")\n",
    "    respostas.append(int(input(\"\")))\n",
    "    if respostas[-1] % 2 == 0: break\n",
    "    else:\n",
    "        print(\"Os numeros introduzidos!\\n\",respostas)\n"
   ]
  },
  {
   "cell_type": "markdown",
   "metadata": {},
   "source": [
    "**5) Faça um programa que apresente a soma de todos os números pares desde 0 até 100:**\n",
    "\n",
    "* pode utilizar as funções sum() e range() para o tornar mais fácil. \n",
    "* O terceiro parâmetro na função range (início, fim, salto) indica um salto de números"
   ]
  },
  {
   "cell_type": "code",
   "execution_count": 1,
   "metadata": {},
   "outputs": [
    {
     "name": "stdout",
     "output_type": "stream",
     "text": [
      "A soma atual: 0\n",
      "A soma atual: 2\n",
      "A soma atual: 6\n",
      "A soma atual: 12\n",
      "A soma atual: 20\n",
      "A soma atual: 30\n",
      "A soma atual: 42\n",
      "A soma atual: 56\n",
      "A soma atual: 72\n",
      "A soma atual: 90\n",
      "A soma atual: 110\n",
      "A soma atual: 132\n",
      "A soma atual: 156\n",
      "A soma atual: 182\n",
      "A soma atual: 210\n",
      "A soma atual: 240\n",
      "A soma atual: 272\n",
      "A soma atual: 306\n",
      "A soma atual: 342\n",
      "A soma atual: 380\n",
      "A soma atual: 420\n",
      "A soma atual: 462\n",
      "A soma atual: 506\n",
      "A soma atual: 552\n",
      "A soma atual: 600\n",
      "A soma atual: 650\n",
      "A soma atual: 702\n",
      "A soma atual: 756\n",
      "A soma atual: 812\n",
      "A soma atual: 870\n",
      "A soma atual: 930\n",
      "A soma atual: 992\n",
      "A soma atual: 1056\n",
      "A soma atual: 1122\n",
      "A soma atual: 1190\n",
      "A soma atual: 1260\n",
      "A soma atual: 1332\n",
      "A soma atual: 1406\n",
      "A soma atual: 1482\n",
      "A soma atual: 1560\n",
      "A soma atual: 1640\n",
      "A soma atual: 1722\n",
      "A soma atual: 1806\n",
      "A soma atual: 1892\n",
      "A soma atual: 1980\n",
      "A soma atual: 2070\n",
      "A soma atual: 2162\n",
      "A soma atual: 2256\n",
      "A soma atual: 2352\n",
      "A soma atual: 2450\n",
      "A soma atual: 2550\n"
     ]
    }
   ],
   "source": [
    "# Completar o exercício aqui\n",
    "def pergunta_5():\n",
    "    soma :int = 0\n",
    "    #loop de 2 em 2\n",
    "    for i in range(0,101,2):\n",
    "        soma += i\n",
    "        print(f\"A soma atual: {soma}\")\n",
    "\n",
    "pergunta_5()"
   ]
  },
  {
   "cell_type": "markdown",
   "metadata": {},
   "source": [
    "**6) Crie um programa que solicite ao utilizador um número inteiro de 0 a 9. Repita o processo até que o número seja correto. Em seguida, verifique se o número está na lista específica (2, 4, 5, 7). Se estiver, informe ao utilizador; caso contrário, repita o processo.**\n",
    "\n",
    "*Pista: a sintaxe “valor in lista” permite comprovar facilmente se um valor se encontra numa lista (devolver True ou False)*"
   ]
  },
  {
   "cell_type": "code",
   "execution_count": 1,
   "metadata": {},
   "outputs": [],
   "source": [
    "# Completar o exercício aqui"
   ]
  },
  {
   "cell_type": "markdown",
   "metadata": {},
   "source": [
    "**7) Faça um programa que utilize a função range() e a conversão para listas gera as seguintes listas dinamicamente (e mostrá-las com print):**\n",
    "\n",
    "* Todos os números de 0 a 10 [0, 1, 2, ..., 10]\n",
    "* Todos os números de -10 a 0 [-10, -9, -8, ..., 0]\n",
    "* Todos os números pares de 0 a 20 [0, 2, 4, ..., 20]\n",
    "* Todos os números ímpares entre -20 e 0 [-19, -17, -15, ..., -1]\n",
    "* Todos os números múltiplos de 5 a 50 [0, 5, 10, ..., 50]\n",
    "\n",
    "*Pista: utilizar o terceiro parâmetro da função range (início, fim, salto).*"
   ]
  },
  {
   "cell_type": "code",
   "execution_count": 10,
   "metadata": {},
   "outputs": [],
   "source": [
    "# Completar o exercício aqui"
   ]
  },
  {
   "cell_type": "markdown",
   "metadata": {},
   "source": [
    "**8) Crie um programa que, dadas duas listas, lista_1 e lista_2, gere uma terceira lista com os elementos que se repetem nas duas listas:**\n",
    "\n",
    "lista_1 = [\"o\",'l','a',' ', 'm','u','n','d','o']\n",
    "\n",
    "lista_2 = [\"o\",'l','a',' ', 'l','u','a'] \n",
    "\n",
    "* Mas não deve repetir-se nenhum elemento na nova lista"
   ]
  },
  {
   "cell_type": "code",
   "execution_count": 11,
   "metadata": {},
   "outputs": [],
   "source": [
    "# Completar o exercício aqui\n",
    "lista_1 = [\"o\",'l','a',' ', 'm','u','n','d','o']\n",
    "lista_2 = [\"o\",'l','a',' ', 'l','u','a'] \n",
    "lista_3 = []"
   ]
  }
 ],
 "metadata": {
  "anaconda-cloud": {},
  "kernelspec": {
   "display_name": "Python 3",
   "language": "python",
   "name": "python3"
  },
  "language_info": {
   "codemirror_mode": {
    "name": "ipython",
    "version": 3
   },
   "file_extension": ".py",
   "mimetype": "text/x-python",
   "name": "python",
   "nbconvert_exporter": "python",
   "pygments_lexer": "ipython3",
   "version": "3.12.6"
  }
 },
 "nbformat": 4,
 "nbformat_minor": 2
}
