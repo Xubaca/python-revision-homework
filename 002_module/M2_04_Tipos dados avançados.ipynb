{
 "cells": [
  {
   "cell_type": "markdown",
   "metadata": {},
   "source": [
    "# Exercícios Módulo 2. Tipos avançados\n",
    "\n",
    "Considerações a ter em conta:\n",
    "\n",
    "* Guardar este documento com o seguinte formato para entrega: __M2_04_nome_apelido1_apelido2__ \n",
    "* Fazer os exercícios com as ferramentas vistas nas sessões. Ainda não chegámos às condicionais nem ciclos \n",
    "* Comentar o código\n",
    "* Utilizar nomes de variáveis apropriados, se vai guardar uma nota, chamar a essa variável nota, não n ou x"
   ]
  },
  {
   "cell_type": "markdown",
   "metadata": {},
   "source": [
    "## Exercícios de tipos avançados"
   ]
  },
  {
   "cell_type": "markdown",
   "metadata": {},
   "source": [
    "**1) Trabalhar com listas e tuplas**\n",
    "\n",
    "* Crie uma lista e uma tupla que contenham strings (pelo menos 4 elementos). A temática é livre e pode ser sobre veículos, comida, música, etc.\n",
    "* Imprima a lista e a tupla.\n",
    "* Imprima o 2.º elemento da lista e o penúltimo da tupla.\n",
    "* Modifique algum elemento da lista e da tupla. Em seguida, imprima o resultado novamente.\n",
    "* Mostre o tamanho da lista e da tupla.\n",
    "* Adicione algum elemento à lista e à tupla. Mostre a lista e a tupla novamente para verificar se a ação foi realizada corretamente.\n",
    "* Apague ou elimine o conteúdo da lista e da tupla. Imprima a lista e a tupla novamente para verificar se a ação foi realizada corretamente."
   ]
  },
  {
   "cell_type": "code",
   "execution_count": 1,
   "metadata": {},
   "outputs": [],
   "source": [
    "# Completar o exercício aqui\n",
    "\n"
   ]
  },
  {
   "cell_type": "markdown",
   "metadata": {},
   "source": [
    "**2) Trabalhar com sets e dicionários**\n",
    "\n",
    "* Crie um set com pelo menos 3 elementos relacionados a um tema (por exemplo: veículos, comida, música).\n",
    "* Crie um dicionário com 3 pares chave-valor relacionados ao mesmo tema.\n",
    "* Mostre o set e o dicionário.\n",
    "* Mostre o 2º elemento do set e o valor da primeira chave-valor do dicionário.\n",
    "* Modifique um elemento do set ou do dicionário e mostre o resultado.\n",
    "* Mostre o tamanho do set e do dicionário.\n",
    "* Pesquise se um elemento está presente no set e no dicionário e mostre os resultados (True ou False).\n",
    "* Adicione um elemento ao set e uma chave-valor ao dicionário e mostre ambos.\n",
    "* Apague o conteúdo do set e do dicionário e mostre-os novamente."
   ]
  },
  {
   "cell_type": "code",
   "execution_count": 1,
   "metadata": {},
   "outputs": [],
   "source": [
    "#  Completar o exercício aqui\n"
   ]
  },
  {
   "cell_type": "markdown",
   "metadata": {},
   "source": [
    "**3) Peça ao utilizador para inserir 3 números (inteiros ou decimais) individualmente.**\n",
    "* Crie uma lista com os números fornecidos.\n",
    "* Calcule o somatório dos elementos da lista.\n",
    "* Imprima o resultado.\n",
    "\n",
    "*Ajuda: existe uma função chamada sum(lista) Experimente-a!*"
   ]
  },
  {
   "cell_type": "code",
   "execution_count": 3,
   "metadata": {},
   "outputs": [],
   "source": [
    "# Completar o exercício aqui\n"
   ]
  },
  {
   "cell_type": "markdown",
   "metadata": {},
   "source": [
    "**4) Peça ao utilizador para inserir 4 números (inteiros ou decimais) individualmente.**\n",
    "\n",
    "* Crie uma lista com os números fornecidos.\n",
    "* Calcule a média aritmética dos elementos da lista.\n",
    "* Imprima o resultado.\n",
    "\n",
    "*Neste caso sabemos que o número de elementos que o utilizador introduziu é 4, mas o objetivo será deixar o programa abstrato,e portanto, não fazer referência ao número 3; deve calcular o numeros de elementos da lista*"
   ]
  },
  {
   "cell_type": "code",
   "execution_count": 4,
   "metadata": {},
   "outputs": [],
   "source": [
    "# Completar o exercício aqui\n"
   ]
  },
  {
   "cell_type": "markdown",
   "metadata": {},
   "source": [
    "**5) Crie uma matriz inicial com quatro sublistas, cada uma contendo três números inteiros.**\n",
    "* Calcule a soma dos três primeiros elementos da primeira sublista e adicione esse resultado como o quarto elemento na mesma sublista.\n",
    "* Repita o processo para as outras três sublistas, calculando a soma dos três primeiros elementos e adicionando esse resultado como o quarto elemento em cada sublista.\n",
    "\n",
    "*Não vale colocar diretamente os valores (nem os índices nem a soma)\n",
    "*Há que pesquisar uma forma automatizada de aceder e modificar esses valores"
   ]
  },
  {
   "cell_type": "code",
   "execution_count": 2,
   "metadata": {},
   "outputs": [],
   "source": [
    "matriz = [ \n",
    "    [1, 1, 1],\n",
    "    [2, 2, 7],\n",
    "    [3, 3, 9],\n",
    "    [4, 4, 13]\n",
    "]\n",
    "\n",
    "# Completar o exercício aqui\n"
   ]
  },
  {
   "cell_type": "markdown",
   "metadata": {},
   "source": [
    "**6) Existe um videojogo na qual os atributos das personagens estão  guardadas nos seguintes dicionários:**\n",
    "\n",
    "* cavaleiro = { 'vida':2, 'ataque':2, 'defesa': 2, 'alcance':2 }\n",
    "* guerreiro = { 'vida':2, 'ataque':2, 'defesa': 2, 'alcance':2 }\n",
    "* arqueiro = { 'vida':2, 'ataque':2, 'defesa': 2, 'alcance':2 }\n",
    "\n",
    "Ao passar para o segundo nível do jogo, temos de automaticamente alterar os seus valores:\n",
    "\n",
    "* O cavaleiro terá o dobro de vida e de defesa que um guerreiro.\n",
    "* O guerreiro terá o dobro do ataque e do alcance que um cavaleiro.\n",
    "* O arqueiro terá a mesma vida e ataque que um guerreiro, mas a metade da sua defesa e o dobro do seu alcance.\n",
    "\n",
    "Imprimir como fica os atributos das três personagens.\n"
   ]
  },
  {
   "cell_type": "code",
   "execution_count": 8,
   "metadata": {},
   "outputs": [],
   "source": [
    "cavaleiro = { 'vida':2, 'ataque':2, 'defesa': 2, 'alcance':2 }\n",
    "guerreiro = { 'vida':2, 'ataque':2, 'defesa': 2, 'alcance':2 }\n",
    "arqueiro  = { 'vida':2, 'ataque':2, 'defesa': 2, 'alcance':2 }\n",
    "\n",
    "# Completar o exercício aqui\n"
   ]
  }
 ],
 "metadata": {
  "anaconda-cloud": {},
  "kernelspec": {
   "display_name": "Python 2",
   "language": "python",
   "name": "python2"
  },
  "language_info": {
   "codemirror_mode": {
    "name": "ipython",
    "version": 2
   },
   "file_extension": ".py",
   "mimetype": "text/x-python",
   "name": "python",
   "nbconvert_exporter": "python",
   "pygments_lexer": "ipython2",
   "version": "2.7.16"
  }
 },
 "nbformat": 4,
 "nbformat_minor": 4
}
