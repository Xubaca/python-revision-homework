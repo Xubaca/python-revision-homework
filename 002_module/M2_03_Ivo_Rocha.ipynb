{
 "cells": [
  {
   "cell_type": "markdown",
   "metadata": {},
   "source": [
    "# Exercícios Módulo 2. Tipos avançados\n",
    "\n",
    "Considerações a ter em conta:\n",
    "\n",
    "* Guardar este documento com o seguinte formato para entrega: __M2_04_nome_apelido1_apelido2__ \n",
    "* Fazer os exercícios com as ferramentas vistas nas sessões. Ainda não chegámos às condicionais nem ciclos \n",
    "* Comentar o código\n",
    "* Utilizar nomes de variáveis apropriados, se vai guardar uma nota, chamar a essa variável nota, não n ou x"
   ]
  },
  {
   "cell_type": "markdown",
   "metadata": {},
   "source": [
    "## Exercícios de tipos avançados"
   ]
  },
  {
   "cell_type": "markdown",
   "metadata": {},
   "source": [
    "**1) Trabalhar com listas e tuplas**\n",
    "\n",
    "* Crie uma lista e uma tupla que contenham strings (pelo menos 4 elementos). A temática é livre e pode ser sobre veículos, comida, música, etc.\n",
    "* Imprima a lista e a tupla.\n",
    "* Imprima o 2.º elemento da lista e o penúltimo da tupla.\n",
    "* Modifique algum elemento da lista e da tupla. Em seguida, imprima o resultado novamente.\n",
    "* Mostre o tamanho da lista e da tupla.\n",
    "* Adicione algum elemento à lista e à tupla. Mostre a lista e a tupla novamente para verificar se a ação foi realizada corretamente.\n",
    "* Apague ou elimine o conteúdo da lista e da tupla. Imprima a lista e a tupla novamente para verificar se a ação foi realizada corretamente."
   ]
  },
  {
   "cell_type": "code",
   "execution_count": null,
   "metadata": {},
   "outputs": [],
   "source": [
    "# Completar o exercício aqui\n",
    "\n",
    "#defenicao das variaveis\n",
    "lol_champs_list :list[str] = [\"Garen\",\"Katarina\",\"Ashe\",\"Warwick\"]\n",
    "lol_champs_tuple :tuple[str, str, str, str] = (\"Nami\",\"Soraka\",\"Miss Fortune\",\"Lucian\")\n",
    "#prints\n",
    "print(lol_champs_list)\n",
    "print(lol_champs_tuple)\n",
    "#index print\n",
    "print(lol_champs_list[1] + \" \" + lol_champs_tuple[-1])\n",
    "#modificao e print\n",
    "#tuple\n",
    "#é imutavel por isso tem que se fazer assim ou via pointers\n",
    "temp_list = list(lol_champs_tuple)\n",
    "temp_list[0] = \"Lee sin\"\n",
    "lol_champs_tuple = tuple(temp_list)\n",
    "print(lol_champs_tuple)\n",
    "#listas são mutaveis\n",
    "lol_champs_list[0] = \"Rengar\"\n",
    "print(lol_champs_list)\n",
    "#print dos tamanhos\n",
    "print(f\"O tamanho da lista é {len(lol_champs_list)}\")\n",
    "print(f\"O tamanho do tuple é {len(lol_champs_tuple)}\")\n",
    "#adicao e print\n",
    "temp_list = list(lol_champs_tuple)\n",
    "temp_list.append(\"Aatrox\")\n",
    "lol_champs_tuple = tuple(temp_list)\n",
    "print(lol_champs_tuple)\n",
    "lol_champs_list.append(\"Bard\")\n",
    "print(lol_champs_list)\n",
    "#apagar e print\n",
    "temp_list=list(lol_champs_tuple)\n",
    "temp_list.remove(\"Aatrox\")\n",
    "lol_champs_tuple = tuple(temp_list)\n",
    "print(lol_champs_tuple)\n",
    "lol_champs_list.remove(\"Bard\")\n",
    "print(lol_champs_list)"
   ]
  },
  {
   "cell_type": "markdown",
   "metadata": {},
   "source": [
    "**2) Trabalhar com sets e dicionários**\n",
    "\n",
    "* Crie um set com pelo menos 3 elementos relacionados a um tema (por exemplo: veículos, comida, música).\n",
    "* Crie um dicionário com 3 pares chave-valor relacionados ao mesmo tema.\n",
    "* Mostre o set e o dicionário.\n",
    "* Mostre o 2º elemento do set e o valor da primeira chave-valor do dicionário.\n",
    "* Modifique um elemento do set ou do dicionário e mostre o resultado.\n",
    "* Mostre o tamanho do set e do dicionário.\n",
    "* Pesquise se um elemento está presente no set e no dicionário e mostre os resultados (True ou False).\n",
    "* Adicione um elemento ao set e uma chave-valor ao dicionário e mostre ambos.\n",
    "* Apague o conteúdo do set e do dicionário e mostre-os novamente."
   ]
  },
  {
   "cell_type": "code",
   "execution_count": null,
   "metadata": {},
   "outputs": [],
   "source": [
    "#  Completar o exercício aqui\n",
    "# Completar o exercício aqui\n",
    "#instanciacao\n",
    "#ordem dos meus favoritos\n",
    "one_piece_set :set[str] = {\"usopp\",\"zoro\",\"Dr. chopper\"}\n",
    "#ordem de chegada à crew\n",
    "one_piece_dict :dict[int:str] = {\n",
    "    0:\"luffy\",\n",
    "    1:\"zoro\",\n",
    "    2:\"Nami\"\n",
    "}\n",
    "print(one_piece_set)\n",
    "print(one_piece_dict)\n",
    "print(type(one_piece_set))\n",
    "#printing das estruturas\n",
    "temp_list_one_piece:list = list(one_piece_set)\n",
    "print(temp_list_one_piece[1])\n",
    "print(next(iter(one_piece_dict.values())))\n",
    "#modificação\n",
    "one_piece_dict[2] = \"Sanji\"\n",
    "print(one_piece_dict)\n",
    "#printing size\n",
    "print(len(one_piece_dict))\n",
    "print(len(one_piece_set))\n",
    "\n",
    "#pesquisa de elementos\n",
    "\n",
    "resp :str = input(\"Que elemento é que quer pesquisar nas duas estruturas?\")\n",
    "print(\"O dict tem este valor?\\t\" + str(resp in one_piece_dict.values()))\n",
    "print(\"O set tem este valor?\\t\" + str(resp in one_piece_set))\n",
    "\n",
    "#adicao de elementos\n",
    "one_piece_dict[4] = \"Nami\"\n",
    "one_piece_set.add(\"Sniper King\")\n",
    "print(one_piece_dict)\n",
    "print(one_piece_set)\n",
    "\n",
    "#apagar o conteudo\n",
    "one_piece_dict.clear()\n",
    "one_piece_set.clear()\n",
    "print(one_piece_dict)\n",
    "print(one_piece_set)"
   ]
  },
  {
   "cell_type": "markdown",
   "metadata": {},
   "source": [
    "**3) Peça ao utilizador para inserir 3 números (inteiros ou decimais) individualmente.**\n",
    "* Crie uma lista com os números fornecidos.\n",
    "* Calcule o somatório dos elementos da lista.\n",
    "* Imprima o resultado.\n",
    "\n",
    "*Ajuda: existe uma função chamada sum(lista) Experimente-a!*"
   ]
  },
  {
   "cell_type": "code",
   "execution_count": null,
   "metadata": {},
   "outputs": [],
   "source": [
    "numeros:list = []\n",
    "i:int = 0\n",
    "while(i < 3):\n",
    "    try:\n",
    "        #podemos sempre guardar ints como floats por isso é mais facil se assumirmos sempre que são floats\n",
    "        dynamic_variable = (float)(input(\"Por favor insira um numero! apenas ints ou floats!\\n\"))\n",
    "        numeros.append(dynamic_variable)\n",
    "        i+=1\n",
    "    except:\n",
    "        print(\"Por favor apenas ints e floats\")\n",
    "soma :float = sum(numeros)\n",
    "print(f\"A soma é:\\t{round(soma,2)}\")"
   ]
  },
  {
   "cell_type": "markdown",
   "metadata": {},
   "source": [
    "**4) Peça ao utilizador para inserir 4 números (inteiros ou decimais) individualmente.**\n",
    "\n",
    "* Crie uma lista com os números fornecidos.\n",
    "* Calcule a média aritmética dos elementos da lista.\n",
    "* Imprima o resultado.\n",
    "\n",
    "*Neste caso sabemos que o número de elementos que o utilizador introduziu é 4, mas o objetivo será deixar o programa abstrato,e portanto, não fazer referência ao número 3; deve calcular o numeros de elementos da lista*"
   ]
  },
  {
   "cell_type": "code",
   "execution_count": null,
   "metadata": {},
   "outputs": [],
   "source": [
    "# Completar o exercício aqui\n",
    "def pergunta_4():\n",
    "    numeros:list =[]\n",
    "    i :int = 0\n",
    "    while(i<3):\n",
    "        try:\n",
    "            #inteiros e floats podem ser guardados dentro de um float\n",
    "            resposta:float = (float)(input(\"Por favor digite o numero desejado!\\n\"))\n",
    "            numeros.append(resposta)\n",
    "            i+=1\n",
    "        except:\n",
    "            print(\"Por favor, apenas numeros\")\n",
    "    #usamos o sum falado na pergunta anterior para facilitar o calculo ,não tendo de fazer um for loop\n",
    "    media :float = sum(numeros)/4\n",
    "    print(f\"A soma é {round(media,2)}\")"
   ]
  },
  {
   "cell_type": "markdown",
   "metadata": {},
   "source": [
    "**5) Crie uma matriz inicial com quatro sublistas, cada uma contendo três números inteiros.**\n",
    "* Calcule a soma dos três primeiros elementos da primeira sublista e adicione esse resultado como o quarto elemento na mesma sublista.\n",
    "* Repita o processo para as outras três sublistas, calculando a soma dos três primeiros elementos e adicionando esse resultado como o quarto elemento em cada sublista.\n",
    "\n",
    "*Não vale colocar diretamente os valores (nem os índices nem a soma)\n",
    "*Há que pesquisar uma forma automatizada de aceder e modificar esses valores"
   ]
  },
  {
   "cell_type": "code",
   "execution_count": null,
   "metadata": {},
   "outputs": [],
   "source": [
    "def pergunta_5():\n",
    "    matriz :list[list[int]] = [\n",
    "        [1, 1, 1],\n",
    "        [2, 2, 7],\n",
    "        [3, 3, 9],\n",
    "        [4, 4, 13]\n",
    "    ]\n",
    "    #usando a funcao Sum conseguimos obter o resultado sem necessitar de um ciclo for ou foreach\n",
    "    matriz[0].append(sum(matriz[0]))\n",
    "    print(matriz[0])\n",
    "    #iteração para evitar repetição de código\n",
    "    # Eu acho que isto satisfas a condição \"Não vale colocar diretamente os valores (nem os índices nem a soma)\"\n",
    "    for i in range(1,4):\n",
    "        matriz[i].append(sum(matriz[i]))\n",
    "    print(matriz)\n",
    "    pass\n",
    "\n",
    "# Completar o exercício aqui\n"
   ]
  },
  {
   "cell_type": "markdown",
   "metadata": {},
   "source": [
    "**6) Existe um videojogo na qual os atributos das personagens estão  guardadas nos seguintes dicionários:**\n",
    "\n",
    "* cavaleiro = { 'vida':2, 'ataque':2, 'defesa': 2, 'alcance':2 }\n",
    "* guerreiro = { 'vida':2, 'ataque':2, 'defesa': 2, 'alcance':2 }\n",
    "* arqueiro = { 'vida':2, 'ataque':2, 'defesa': 2, 'alcance':2 }\n",
    "\n",
    "Ao passar para o segundo nível do jogo, temos de automaticamente alterar os seus valores:\n",
    "\n",
    "* O cavaleiro terá o dobro de vida e de defesa que um guerreiro.\n",
    "* O guerreiro terá o dobro do ataque e do alcance que um cavaleiro.\n",
    "* O arqueiro terá a mesma vida e ataque que um guerreiro, mas a metade da sua defesa e o dobro do seu alcance.\n",
    "\n",
    "Imprimir como fica os atributos das três personagens.\n"
   ]
  },
  {
   "cell_type": "code",
   "execution_count": null,
   "metadata": {},
   "outputs": [],
   "source": [
    "cavaleiro = {'vida': 2, 'ataque': 2, 'defesa': 2, 'alcance': 2}\n",
    "guerreiro = {'vida': 2, 'ataque': 2, 'defesa': 2, 'alcance': 2}\n",
    "arqueiro = {'vida': 2, 'ataque': 2, 'defesa': 2, 'alcance': 2}\n",
    "\n",
    "cavaleiro['vida'] = guerreiro['defesa']*2\n",
    "guerreiro['ataque']=cavaleiro['alcance']*2\n",
    "arqueiro.update({\n",
    "    'vida' : guerreiro['vida'],\n",
    "    'ataque' : guerreiro['ataque'],\n",
    "    'defesa' : int(float(guerreiro['defesa'])*0.5),\n",
    "    'alcance' : int((float)(guerreiro['alcance'])*2)\n",
    "})\n",
    "print(arqueiro,guerreiro,cavaleiro, sep=\"\\n\")\n",
    "pass\n",
    "\n",
    "# Completar o exercício aqui\n"
   ]
  }
 ],
 "metadata": {
  "anaconda-cloud": {},
  "kernelspec": {
   "display_name": "Python 2",
   "language": "python",
   "name": "python2"
  },
  "language_info": {
   "codemirror_mode": {
    "name": "ipython",
    "version": 2
   },
   "file_extension": ".py",
   "mimetype": "text/x-python",
   "name": "python",
   "nbconvert_exporter": "python",
   "pygments_lexer": "ipython2",
   "version": "2.7.16"
  }
 },
 "nbformat": 4,
 "nbformat_minor": 4
}
