{
 "cells": [
  {
   "cell_type": "markdown",
   "metadata": {},
   "source": [
    "# Exercícios Módulo 2. Tipos básicos\n",
    "\n",
    "Considerações a ter em conta: \n",
    "\n",
    "* Guardar este documento com o seguinte formato para entrega: __M2_01_nome_apelido1_apelido2__\n",
    "* Fazer os exercícios com as ferramentas vistas nas sessões. Ainda não chegámos às condicionais nem ciclos \n",
    "* Comentar o código\n",
    "* Utilizar nomes de variáveis apropriados, se vai guardar uma nota, chamar a essa variável nota, não n ou x"
   ]
  },
  {
   "cell_type": "markdown",
   "metadata": {},
   "source": [
    "## Exercícios de tipos de variáveis básicos"
   ]
  },
  {
   "cell_type": "markdown",
   "metadata": {},
   "source": [
    "**1) Identifica os tipos de dados (inteiro, float, booleano ou string) dos seguintes valores:**\n",
    "```python\n",
    "\"Olá Mundo\"        # string\n",
    "True        # bool\n",
    "-25                 # int\n",
    "1.167               # float\n",
    "' '                 # string\n",
    "```"
   ]
  },
  {
   "cell_type": "markdown",
   "metadata": {},
   "source": [
    "**2) Indica o resultado que irão mostrar os prints com base a estas variáveis (sem necessidade de programar, mentalmente):**\n",
    "```python\n",
    "a = 10\n",
    "b = -5\n",
    "c =  \"Olá \" \n",
    "print(a * 5)         # 50\n",
    "print(a - b)         # 15\n",
    "print(c + \"Mundo\")   # Olá mundo\n",
    "print(c * 2)         # Olá Olá\n",
    "print(c[-1])         #  \n",
    "print(c[1:])         # lá\n",
    "```"
   ]
  },
  {
   "cell_type": "markdown",
   "metadata": {},
   "source": [
    "**3) Criar três strings diferentes e, em seguida, gera uma quarta string concatenando as três com um travessão \"-\". \n",
    "Em seguida:**\n",
    "\n",
    "* Exibe a quarta variável completa;\n",
    "* Os 5 primeiros caracteres;\n",
    "* Os 5 últimos caracteres"
   ]
  },
  {
   "cell_type": "code",
   "execution_count": null,
   "metadata": {},
   "outputs": [],
   "source": [
    "# Completar o exercício aqui\n",
    "#string creation\n",
    "string_1 :str  = \"primeira\"\n",
    "string_2 :str = \"segunda\"\n",
    "string_3 :str = \"terceira\"\n",
    "#string concatenation\n",
    "string_4 :str = string_1+\"-\"+string_2+\"-\"+string_3\n",
    "#string printing\n",
    "print(string_4)\n",
    "print(string_4[-5:])"
   ]
  }
 ],
 "metadata": {
  "anaconda-cloud": {},
  "kernelspec": {
   "display_name": "Python 2",
   "language": "python",
   "name": "python2"
  },
  "language_info": {
   "codemirror_mode": {
    "name": "ipython",
    "version": 2
   },
   "file_extension": ".py",
   "mimetype": "text/x-python",
   "name": "python",
   "nbconvert_exporter": "python",
   "pygments_lexer": "ipython2",
   "version": "2.7.16"
  }
 },
 "nbformat": 4,
 "nbformat_minor": 2
}
